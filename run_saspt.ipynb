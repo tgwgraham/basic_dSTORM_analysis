{
 "cells": [
  {
   "cell_type": "code",
   "execution_count": 1,
   "metadata": {
    "colab": {
     "base_uri": "https://localhost:8080/",
     "height": 330,
     "resources": {
      "http://localhost:8080/nbextensions/google.colab/files.js": {
       "data": "Ly8gQ29weXJpZ2h0IDIwMTcgR29vZ2xlIExMQwovLwovLyBMaWNlbnNlZCB1bmRlciB0aGUgQXBhY2hlIExpY2Vuc2UsIFZlcnNpb24gMi4wICh0aGUgIkxpY2Vuc2UiKTsKLy8geW91IG1heSBub3QgdXNlIHRoaXMgZmlsZSBleGNlcHQgaW4gY29tcGxpYW5jZSB3aXRoIHRoZSBMaWNlbnNlLgovLyBZb3UgbWF5IG9idGFpbiBhIGNvcHkgb2YgdGhlIExpY2Vuc2UgYXQKLy8KLy8gICAgICBodHRwOi8vd3d3LmFwYWNoZS5vcmcvbGljZW5zZXMvTElDRU5TRS0yLjAKLy8KLy8gVW5sZXNzIHJlcXVpcmVkIGJ5IGFwcGxpY2FibGUgbGF3IG9yIGFncmVlZCB0byBpbiB3cml0aW5nLCBzb2Z0d2FyZQovLyBkaXN0cmlidXRlZCB1bmRlciB0aGUgTGljZW5zZSBpcyBkaXN0cmlidXRlZCBvbiBhbiAiQVMgSVMiIEJBU0lTLAovLyBXSVRIT1VUIFdBUlJBTlRJRVMgT1IgQ09ORElUSU9OUyBPRiBBTlkgS0lORCwgZWl0aGVyIGV4cHJlc3Mgb3IgaW1wbGllZC4KLy8gU2VlIHRoZSBMaWNlbnNlIGZvciB0aGUgc3BlY2lmaWMgbGFuZ3VhZ2UgZ292ZXJuaW5nIHBlcm1pc3Npb25zIGFuZAovLyBsaW1pdGF0aW9ucyB1bmRlciB0aGUgTGljZW5zZS4KCi8qKgogKiBAZmlsZW92ZXJ2aWV3IEhlbHBlcnMgZm9yIGdvb2dsZS5jb2xhYiBQeXRob24gbW9kdWxlLgogKi8KKGZ1bmN0aW9uKHNjb3BlKSB7CmZ1bmN0aW9uIHNwYW4odGV4dCwgc3R5bGVBdHRyaWJ1dGVzID0ge30pIHsKICBjb25zdCBlbGVtZW50ID0gZG9jdW1lbnQuY3JlYXRlRWxlbWVudCgnc3BhbicpOwogIGVsZW1lbnQudGV4dENvbnRlbnQgPSB0ZXh0OwogIGZvciAoY29uc3Qga2V5IG9mIE9iamVjdC5rZXlzKHN0eWxlQXR0cmlidXRlcykpIHsKICAgIGVsZW1lbnQuc3R5bGVba2V5XSA9IHN0eWxlQXR0cmlidXRlc1trZXldOwogIH0KICByZXR1cm4gZWxlbWVudDsKfQoKLy8gTWF4IG51bWJlciBvZiBieXRlcyB3aGljaCB3aWxsIGJlIHVwbG9hZGVkIGF0IGEgdGltZS4KY29uc3QgTUFYX1BBWUxPQURfU0laRSA9IDEwMCAqIDEwMjQ7CgpmdW5jdGlvbiBfdXBsb2FkRmlsZXMoaW5wdXRJZCwgb3V0cHV0SWQpIHsKICBjb25zdCBzdGVwcyA9IHVwbG9hZEZpbGVzU3RlcChpbnB1dElkLCBvdXRwdXRJZCk7CiAgY29uc3Qgb3V0cHV0RWxlbWVudCA9IGRvY3VtZW50LmdldEVsZW1lbnRCeUlkKG91dHB1dElkKTsKICAvLyBDYWNoZSBzdGVwcyBvbiB0aGUgb3V0cHV0RWxlbWVudCB0byBtYWtlIGl0IGF2YWlsYWJsZSBmb3IgdGhlIG5leHQgY2FsbAogIC8vIHRvIHVwbG9hZEZpbGVzQ29udGludWUgZnJvbSBQeXRob24uCiAgb3V0cHV0RWxlbWVudC5zdGVwcyA9IHN0ZXBzOwoKICByZXR1cm4gX3VwbG9hZEZpbGVzQ29udGludWUob3V0cHV0SWQpOwp9CgovLyBUaGlzIGlzIHJvdWdobHkgYW4gYXN5bmMgZ2VuZXJhdG9yIChub3Qgc3VwcG9ydGVkIGluIHRoZSBicm93c2VyIHlldCksCi8vIHdoZXJlIHRoZXJlIGFyZSBtdWx0aXBsZSBhc3luY2hyb25vdXMgc3RlcHMgYW5kIHRoZSBQeXRob24gc2lkZSBpcyBnb2luZwovLyB0byBwb2xsIGZvciBjb21wbGV0aW9uIG9mIGVhY2ggc3RlcC4KLy8gVGhpcyB1c2VzIGEgUHJvbWlzZSB0byBibG9jayB0aGUgcHl0aG9uIHNpZGUgb24gY29tcGxldGlvbiBvZiBlYWNoIHN0ZXAsCi8vIHRoZW4gcGFzc2VzIHRoZSByZXN1bHQgb2YgdGhlIHByZXZpb3VzIHN0ZXAgYXMgdGhlIGlucHV0IHRvIHRoZSBuZXh0IHN0ZXAuCmZ1bmN0aW9uIF91cGxvYWRGaWxlc0NvbnRpbnVlKG91dHB1dElkKSB7CiAgY29uc3Qgb3V0cHV0RWxlbWVudCA9IGRvY3VtZW50LmdldEVsZW1lbnRCeUlkKG91dHB1dElkKTsKICBjb25zdCBzdGVwcyA9IG91dHB1dEVsZW1lbnQuc3RlcHM7CgogIGNvbnN0IG5leHQgPSBzdGVwcy5uZXh0KG91dHB1dEVsZW1lbnQubGFzdFByb21pc2VWYWx1ZSk7CiAgcmV0dXJuIFByb21pc2UucmVzb2x2ZShuZXh0LnZhbHVlLnByb21pc2UpLnRoZW4oKHZhbHVlKSA9PiB7CiAgICAvLyBDYWNoZSB0aGUgbGFzdCBwcm9taXNlIHZhbHVlIHRvIG1ha2UgaXQgYXZhaWxhYmxlIHRvIHRoZSBuZXh0CiAgICAvLyBzdGVwIG9mIHRoZSBnZW5lcmF0b3IuCiAgICBvdXRwdXRFbGVtZW50Lmxhc3RQcm9taXNlVmFsdWUgPSB2YWx1ZTsKICAgIHJldHVybiBuZXh0LnZhbHVlLnJlc3BvbnNlOwogIH0pOwp9CgovKioKICogR2VuZXJhdG9yIGZ1bmN0aW9uIHdoaWNoIGlzIGNhbGxlZCBiZXR3ZWVuIGVhY2ggYXN5bmMgc3RlcCBvZiB0aGUgdXBsb2FkCiAqIHByb2Nlc3MuCiAqIEBwYXJhbSB7c3RyaW5nfSBpbnB1dElkIEVsZW1lbnQgSUQgb2YgdGhlIGlucHV0IGZpbGUgcGlja2VyIGVsZW1lbnQuCiAqIEBwYXJhbSB7c3RyaW5nfSBvdXRwdXRJZCBFbGVtZW50IElEIG9mIHRoZSBvdXRwdXQgZGlzcGxheS4KICogQHJldHVybiB7IUl0ZXJhYmxlPCFPYmplY3Q+fSBJdGVyYWJsZSBvZiBuZXh0IHN0ZXBzLgogKi8KZnVuY3Rpb24qIHVwbG9hZEZpbGVzU3RlcChpbnB1dElkLCBvdXRwdXRJZCkgewogIGNvbnN0IGlucHV0RWxlbWVudCA9IGRvY3VtZW50LmdldEVsZW1lbnRCeUlkKGlucHV0SWQpOwogIGlucHV0RWxlbWVudC5kaXNhYmxlZCA9IGZhbHNlOwoKICBjb25zdCBvdXRwdXRFbGVtZW50ID0gZG9jdW1lbnQuZ2V0RWxlbWVudEJ5SWQob3V0cHV0SWQpOwogIG91dHB1dEVsZW1lbnQuaW5uZXJIVE1MID0gJyc7CgogIGNvbnN0IHBpY2tlZFByb21pc2UgPSBuZXcgUHJvbWlzZSgocmVzb2x2ZSkgPT4gewogICAgaW5wdXRFbGVtZW50LmFkZEV2ZW50TGlzdGVuZXIoJ2NoYW5nZScsIChlKSA9PiB7CiAgICAgIHJlc29sdmUoZS50YXJnZXQuZmlsZXMpOwogICAgfSk7CiAgfSk7CgogIGNvbnN0IGNhbmNlbCA9IGRvY3VtZW50LmNyZWF0ZUVsZW1lbnQoJ2J1dHRvbicpOwogIGlucHV0RWxlbWVudC5wYXJlbnRFbGVtZW50LmFwcGVuZENoaWxkKGNhbmNlbCk7CiAgY2FuY2VsLnRleHRDb250ZW50ID0gJ0NhbmNlbCB1cGxvYWQnOwogIGNvbnN0IGNhbmNlbFByb21pc2UgPSBuZXcgUHJvbWlzZSgocmVzb2x2ZSkgPT4gewogICAgY2FuY2VsLm9uY2xpY2sgPSAoKSA9PiB7CiAgICAgIHJlc29sdmUobnVsbCk7CiAgICB9OwogIH0pOwoKICAvLyBXYWl0IGZvciB0aGUgdXNlciB0byBwaWNrIHRoZSBmaWxlcy4KICBjb25zdCBmaWxlcyA9IHlpZWxkIHsKICAgIHByb21pc2U6IFByb21pc2UucmFjZShbcGlja2VkUHJvbWlzZSwgY2FuY2VsUHJvbWlzZV0pLAogICAgcmVzcG9uc2U6IHsKICAgICAgYWN0aW9uOiAnc3RhcnRpbmcnLAogICAgfQogIH07CgogIGNhbmNlbC5yZW1vdmUoKTsKCiAgLy8gRGlzYWJsZSB0aGUgaW5wdXQgZWxlbWVudCBzaW5jZSBmdXJ0aGVyIHBpY2tzIGFyZSBub3QgYWxsb3dlZC4KICBpbnB1dEVsZW1lbnQuZGlzYWJsZWQgPSB0cnVlOwoKICBpZiAoIWZpbGVzKSB7CiAgICByZXR1cm4gewogICAgICByZXNwb25zZTogewogICAgICAgIGFjdGlvbjogJ2NvbXBsZXRlJywKICAgICAgfQogICAgfTsKICB9CgogIGZvciAoY29uc3QgZmlsZSBvZiBmaWxlcykgewogICAgY29uc3QgbGkgPSBkb2N1bWVudC5jcmVhdGVFbGVtZW50KCdsaScpOwogICAgbGkuYXBwZW5kKHNwYW4oZmlsZS5uYW1lLCB7Zm9udFdlaWdodDogJ2JvbGQnfSkpOwogICAgbGkuYXBwZW5kKHNwYW4oCiAgICAgICAgYCgke2ZpbGUudHlwZSB8fCAnbi9hJ30pIC0gJHtmaWxlLnNpemV9IGJ5dGVzLCBgICsKICAgICAgICBgbGFzdCBtb2RpZmllZDogJHsKICAgICAgICAgICAgZmlsZS5sYXN0TW9kaWZpZWREYXRlID8gZmlsZS5sYXN0TW9kaWZpZWREYXRlLnRvTG9jYWxlRGF0ZVN0cmluZygpIDoKICAgICAgICAgICAgICAgICAgICAgICAgICAgICAgICAgICAgJ24vYSd9IC0gYCkpOwogICAgY29uc3QgcGVyY2VudCA9IHNwYW4oJzAlIGRvbmUnKTsKICAgIGxpLmFwcGVuZENoaWxkKHBlcmNlbnQpOwoKICAgIG91dHB1dEVsZW1lbnQuYXBwZW5kQ2hpbGQobGkpOwoKICAgIGNvbnN0IGZpbGVEYXRhUHJvbWlzZSA9IG5ldyBQcm9taXNlKChyZXNvbHZlKSA9PiB7CiAgICAgIGNvbnN0IHJlYWRlciA9IG5ldyBGaWxlUmVhZGVyKCk7CiAgICAgIHJlYWRlci5vbmxvYWQgPSAoZSkgPT4gewogICAgICAgIHJlc29sdmUoZS50YXJnZXQucmVzdWx0KTsKICAgICAgfTsKICAgICAgcmVhZGVyLnJlYWRBc0FycmF5QnVmZmVyKGZpbGUpOwogICAgfSk7CiAgICAvLyBXYWl0IGZvciB0aGUgZGF0YSB0byBiZSByZWFkeS4KICAgIGxldCBmaWxlRGF0YSA9IHlpZWxkIHsKICAgICAgcHJvbWlzZTogZmlsZURhdGFQcm9taXNlLAogICAgICByZXNwb25zZTogewogICAgICAgIGFjdGlvbjogJ2NvbnRpbnVlJywKICAgICAgfQogICAgfTsKCiAgICAvLyBVc2UgYSBjaHVua2VkIHNlbmRpbmcgdG8gYXZvaWQgbWVzc2FnZSBzaXplIGxpbWl0cy4gU2VlIGIvNjIxMTU2NjAuCiAgICBsZXQgcG9zaXRpb24gPSAwOwogICAgZG8gewogICAgICBjb25zdCBsZW5ndGggPSBNYXRoLm1pbihmaWxlRGF0YS5ieXRlTGVuZ3RoIC0gcG9zaXRpb24sIE1BWF9QQVlMT0FEX1NJWkUpOwogICAgICBjb25zdCBjaHVuayA9IG5ldyBVaW50OEFycmF5KGZpbGVEYXRhLCBwb3NpdGlvbiwgbGVuZ3RoKTsKICAgICAgcG9zaXRpb24gKz0gbGVuZ3RoOwoKICAgICAgY29uc3QgYmFzZTY0ID0gYnRvYShTdHJpbmcuZnJvbUNoYXJDb2RlLmFwcGx5KG51bGwsIGNodW5rKSk7CiAgICAgIHlpZWxkIHsKICAgICAgICByZXNwb25zZTogewogICAgICAgICAgYWN0aW9uOiAnYXBwZW5kJywKICAgICAgICAgIGZpbGU6IGZpbGUubmFtZSwKICAgICAgICAgIGRhdGE6IGJhc2U2NCwKICAgICAgICB9LAogICAgICB9OwoKICAgICAgbGV0IHBlcmNlbnREb25lID0gZmlsZURhdGEuYnl0ZUxlbmd0aCA9PT0gMCA/CiAgICAgICAgICAxMDAgOgogICAgICAgICAgTWF0aC5yb3VuZCgocG9zaXRpb24gLyBmaWxlRGF0YS5ieXRlTGVuZ3RoKSAqIDEwMCk7CiAgICAgIHBlcmNlbnQudGV4dENvbnRlbnQgPSBgJHtwZXJjZW50RG9uZX0lIGRvbmVgOwoKICAgIH0gd2hpbGUgKHBvc2l0aW9uIDwgZmlsZURhdGEuYnl0ZUxlbmd0aCk7CiAgfQoKICAvLyBBbGwgZG9uZS4KICB5aWVsZCB7CiAgICByZXNwb25zZTogewogICAgICBhY3Rpb246ICdjb21wbGV0ZScsCiAgICB9CiAgfTsKfQoKc2NvcGUuZ29vZ2xlID0gc2NvcGUuZ29vZ2xlIHx8IHt9OwpzY29wZS5nb29nbGUuY29sYWIgPSBzY29wZS5nb29nbGUuY29sYWIgfHwge307CnNjb3BlLmdvb2dsZS5jb2xhYi5fZmlsZXMgPSB7CiAgX3VwbG9hZEZpbGVzLAogIF91cGxvYWRGaWxlc0NvbnRpbnVlLAp9Owp9KShzZWxmKTsK",
       "headers": [
        [
         "content-type",
         "application/javascript"
        ]
       ],
       "ok": true,
       "status": 200,
       "status_text": ""
      }
     }
    },
    "executionInfo": {
     "elapsed": 111367,
     "status": "ok",
     "timestamp": 1637606062962,
     "user": {
      "displayName": "Vinson Fan",
      "photoUrl": "https://lh3.googleusercontent.com/a-/AOh14GgtlFogMwH70xf1vcMx1NePLNke_duUYiS_zFm0=s64",
      "userId": "05432910521548245699"
     },
     "user_tz": 480
    },
    "id": "Xl1FtsSRkifu",
    "outputId": "d81507af-fa9c-4cc8-9ae1-6389921b2aaf"
   },
   "outputs": [],
   "source": [
    "import os, numpy as np, pandas as pd\n",
    "from glob import glob\n",
    "from saspt import StateArray, StateArrayDataset, RBME, load_detections\n",
    "import re\n",
    "from matplotlib import pyplot as plt"
   ]
  },
  {
   "cell_type": "code",
   "execution_count": 2,
   "metadata": {},
   "outputs": [
    {
     "name": "stdout",
     "output_type": "stream",
     "text": [
      "\u001b[0m\u001b[01;32m1.csv\u001b[0m*   \u001b[01;32m19.csv\u001b[0m*  \u001b[01;32m28.csv\u001b[0m*  \u001b[01;32m37.csv\u001b[0m*  \u001b[01;32m46.csv\u001b[0m*  \u001b[01;32m55.csv\u001b[0m*  \u001b[01;32m64.csv\u001b[0m*\n",
      "\u001b[01;32m1.nd2\u001b[0m*   \u001b[01;32m19.nd2\u001b[0m*  \u001b[01;32m28.nd2\u001b[0m*  \u001b[01;32m37.nd2\u001b[0m*  \u001b[01;32m46.nd2\u001b[0m*  \u001b[01;32m55.nd2\u001b[0m*  \u001b[01;32m64.nd2\u001b[0m*\n",
      "\u001b[01;32m10.csv\u001b[0m*  \u001b[01;32m2.csv\u001b[0m*   \u001b[01;32m29.csv\u001b[0m*  \u001b[01;32m38.csv\u001b[0m*  \u001b[01;32m47.csv\u001b[0m*  \u001b[01;32m56.csv\u001b[0m*  \u001b[01;32m65.csv\u001b[0m*\n",
      "\u001b[01;32m10.nd2\u001b[0m*  \u001b[01;32m2.nd2\u001b[0m*   \u001b[01;32m29.nd2\u001b[0m*  \u001b[01;32m38.nd2\u001b[0m*  \u001b[01;32m47.nd2\u001b[0m*  \u001b[01;32m56.nd2\u001b[0m*  \u001b[01;32m65.nd2\u001b[0m*\n",
      "\u001b[01;32m11.csv\u001b[0m*  \u001b[01;32m20.csv\u001b[0m*  \u001b[01;32m3.csv\u001b[0m*   \u001b[01;32m39.csv\u001b[0m*  \u001b[01;32m48.csv\u001b[0m*  \u001b[01;32m57.csv\u001b[0m*  \u001b[01;32m66.csv\u001b[0m*\n",
      "\u001b[01;32m11.nd2\u001b[0m*  \u001b[01;32m20.nd2\u001b[0m*  \u001b[01;32m3.nd2\u001b[0m*   \u001b[01;32m39.nd2\u001b[0m*  \u001b[01;32m48.nd2\u001b[0m*  \u001b[01;32m57.nd2\u001b[0m*  \u001b[01;32m66.nd2\u001b[0m*\n",
      "\u001b[01;32m12.csv\u001b[0m*  \u001b[01;32m21.csv\u001b[0m*  \u001b[01;32m30.csv\u001b[0m*  \u001b[01;32m4.csv\u001b[0m*   \u001b[01;32m49.csv\u001b[0m*  \u001b[01;32m58.csv\u001b[0m*  \u001b[01;32m67.csv\u001b[0m*\n",
      "\u001b[01;32m12.nd2\u001b[0m*  \u001b[01;32m21.nd2\u001b[0m*  \u001b[01;32m30.nd2\u001b[0m*  \u001b[01;32m4.nd2\u001b[0m*   \u001b[01;32m49.nd2\u001b[0m*  \u001b[01;32m58.nd2\u001b[0m*  \u001b[01;32m67.nd2\u001b[0m*\n",
      "\u001b[01;32m13.csv\u001b[0m*  \u001b[01;32m22.csv\u001b[0m*  \u001b[01;32m31.csv\u001b[0m*  \u001b[01;32m40.csv\u001b[0m*  \u001b[01;32m5.csv\u001b[0m*   \u001b[01;32m59.csv\u001b[0m*  \u001b[01;32m7.csv\u001b[0m*\n",
      "\u001b[01;32m13.nd2\u001b[0m*  \u001b[01;32m22.nd2\u001b[0m*  \u001b[01;32m31.nd2\u001b[0m*  \u001b[01;32m40.nd2\u001b[0m*  \u001b[01;32m5.nd2\u001b[0m*   \u001b[01;32m59.nd2\u001b[0m*  \u001b[01;32m7.nd2\u001b[0m*\n",
      "\u001b[01;32m14.csv\u001b[0m*  \u001b[01;32m23.csv\u001b[0m*  \u001b[01;32m32.csv\u001b[0m*  \u001b[01;32m41.csv\u001b[0m*  \u001b[01;32m50.csv\u001b[0m*  \u001b[01;32m6.csv\u001b[0m*   \u001b[01;32m8.csv\u001b[0m*\n",
      "\u001b[01;32m14.nd2\u001b[0m*  \u001b[01;32m23.nd2\u001b[0m*  \u001b[01;32m32.nd2\u001b[0m*  \u001b[01;32m41.nd2\u001b[0m*  \u001b[01;32m50.nd2\u001b[0m*  \u001b[01;32m6.nd2\u001b[0m*   \u001b[01;32m8.nd2\u001b[0m*\n",
      "\u001b[01;32m15.csv\u001b[0m*  \u001b[01;32m24.csv\u001b[0m*  \u001b[01;32m33.csv\u001b[0m*  \u001b[01;32m42.csv\u001b[0m*  \u001b[01;32m51.csv\u001b[0m*  \u001b[01;32m60.csv\u001b[0m*  \u001b[01;32m9.csv\u001b[0m*\n",
      "\u001b[01;32m15.nd2\u001b[0m*  \u001b[01;32m24.nd2\u001b[0m*  \u001b[01;32m33.nd2\u001b[0m*  \u001b[01;32m42.nd2\u001b[0m*  \u001b[01;32m51.nd2\u001b[0m*  \u001b[01;32m60.nd2\u001b[0m*  \u001b[01;32m9.nd2\u001b[0m*\n",
      "\u001b[01;32m16.csv\u001b[0m*  \u001b[01;32m25.csv\u001b[0m*  \u001b[01;32m34.csv\u001b[0m*  \u001b[01;32m43.csv\u001b[0m*  \u001b[01;32m52.csv\u001b[0m*  \u001b[01;32m61.csv\u001b[0m*  \u001b[01;32mrunTrackingAll.py\u001b[0m*\n",
      "\u001b[01;32m16.nd2\u001b[0m*  \u001b[01;32m25.nd2\u001b[0m*  \u001b[01;32m34.nd2\u001b[0m*  \u001b[01;32m43.nd2\u001b[0m*  \u001b[01;32m52.nd2\u001b[0m*  \u001b[01;32m61.nd2\u001b[0m*\n",
      "\u001b[01;32m17.csv\u001b[0m*  \u001b[01;32m26.csv\u001b[0m*  \u001b[01;32m35.csv\u001b[0m*  \u001b[01;32m44.csv\u001b[0m*  \u001b[01;32m53.csv\u001b[0m*  \u001b[01;32m62.csv\u001b[0m*\n",
      "\u001b[01;32m17.nd2\u001b[0m*  \u001b[01;32m26.nd2\u001b[0m*  \u001b[01;32m35.nd2\u001b[0m*  \u001b[01;32m44.nd2\u001b[0m*  \u001b[01;32m53.nd2\u001b[0m*  \u001b[01;32m62.nd2\u001b[0m*\n",
      "\u001b[01;32m18.csv\u001b[0m*  \u001b[01;32m27.csv\u001b[0m*  \u001b[01;32m36.csv\u001b[0m*  \u001b[01;32m45.csv\u001b[0m*  \u001b[01;32m54.csv\u001b[0m*  \u001b[01;32m63.csv\u001b[0m*\n",
      "\u001b[01;32m18.nd2\u001b[0m*  \u001b[01;32m27.nd2\u001b[0m*  \u001b[01;32m36.nd2\u001b[0m*  \u001b[01;32m45.nd2\u001b[0m*  \u001b[01;32m54.nd2\u001b[0m*  \u001b[01;32m63.nd2\u001b[0m*\n"
     ]
    }
   ],
   "source": [
    "ls ../spt"
   ]
  },
  {
   "cell_type": "code",
   "execution_count": 4,
   "metadata": {},
   "outputs": [
    {
     "name": "stdout",
     "output_type": "stream",
     "text": [
      "StateArray:\n",
      "  likelihood_type   : rbme\n",
      "  n_tracks          : 20000\n",
      "  n_jumps           : 83857\n",
      "  parameter_names   : ('diff_coef', 'loc_error')\n",
      "  shape             : (100, 36)\n",
      "Trajectory statistics:\n",
      "n_tracks             : 20000\n",
      "n_jumps              : 83857\n",
      "n_detections         : 103857\n",
      "mean_track_length    : 5.19285\n",
      "max_track_length     : 11\n",
      "fraction_singlets    : 0.0\n",
      "fraction_unassigned  : 0.0\n",
      "mean_jumps_per_track : 4.19285\n",
      "mean_detections_per_frame : 17.3095\n",
      "max_detections_per_frame : 56\n",
      "fraction_of_frames_with_detections : 0.9995\n"
     ]
    },
    {
     "name": "stderr",
     "output_type": "stream",
     "text": [
      "  0%|          | 0/200 [00:00<?, ?it/s]"
     ]
    },
    {
     "name": "stdout",
     "output_type": "stream",
     "text": [
      "inferring posterior distribution...\n"
     ]
    },
    {
     "name": "stderr",
     "output_type": "stream",
     "text": [
      "100%|██████████| 200/200 [12:55<00:00,  3.88s/it]\n"
     ]
    }
   ],
   "source": [
    "# read in all files from the dataset, and perform a StateArray analysis on the combined data.\n",
    "\n",
    "nfiles = 67\n",
    "basefname = '../spt/%d.csv'\n",
    "input_files = []\n",
    "for j in range(1,nfiles+1):\n",
    "    input_files.append(basefname % j)\n",
    "detections = load_detections(*input_files)\n",
    "settings = dict(\n",
    "    likelihood_type = RBME,\n",
    "    pixel_size_um = 0.16,\n",
    "    frame_interval = 0.00748,\n",
    "    focal_depth = 0.7,\n",
    "    start_frame = 0,\n",
    "    progress_bar = True,\n",
    "    sample_size = 20000,\n",
    ")\n",
    "SA = StateArray.from_detections(detections, **settings)\n",
    "print(SA)\n",
    "print(\"Trajectory statistics:\")\n",
    "for k, v in SA.trajectories.processed_track_statistics.items():\n",
    "    print(f\"{k : <20} : {v}\")\n",
    "prior_occs = SA.prior_occs\n",
    "naive_occs = SA.naive_occs\n",
    "posterior_occs = SA.posterior_occs\n",
    "marginal_posterior_occs = SA.marginalize_on_diff_coef(posterior_occs)\n"
   ]
  },
  {
   "cell_type": "code",
   "execution_count": 5,
   "metadata": {},
   "outputs": [
    {
     "name": "stderr",
     "output_type": "stream",
     "text": [
      "findfont: Font family ['sans-serif'] not found. Falling back to DejaVu Sans.\n",
      "findfont: Font family ['sans-serif'] not found. Falling back to DejaVu Sans.\n"
     ]
    }
   ],
   "source": [
    "# make some output plots, and write the overall posterior occupations to a CSV file\n",
    "\n",
    "SA.occupations_dataframe.to_csv(\"posterior_occupations.csv\", index=False)\n",
    "SA.plot_occupations(\"posterior_occupations.png\")\n",
    "SA.plot_assignment_probabilities(\"assignment_probabilities.png\")\n",
    "SA.plot_temporal_assignment_probabilities(\"assignment_probabilities_by_frame.png\")"
   ]
  },
  {
   "cell_type": "code",
   "execution_count": 6,
   "metadata": {},
   "outputs": [],
   "source": [
    "# write out StateArray as a pickled file\n",
    "\n",
    "import pickle\n",
    "with open('SA_pickle','wb') as fh:\n",
    "    pickle.dump(SA,fh)"
   ]
  },
  {
   "cell_type": "code",
   "execution_count": 10,
   "metadata": {},
   "outputs": [],
   "source": [
    "# define a function to assign trajectories to which file number they came from\n",
    "\n",
    "def getFramesAndFile(SA):\n",
    "    # takes in a state array and gives the start and end frames and file number corresponding to each trajectory\n",
    "    # it assumes that the csv files will be numbered 1.csv, 2.csv, etc. (not necessarily continuous), as \n",
    "    # with those produced by the automated macro on MFM\n",
    "    # Output is an N x 4 numpy array where the four columns are:\n",
    "    # 0) trajectory index\n",
    "    # 1) frame index\n",
    "    # 2) file number that this trajectory is from\n",
    "    # 3) extra column (used for further classifying trajectories in other versions of this function)\n",
    "    det = SA.trajectories.detections\n",
    "    trajn = det['trajectory'].unique()\n",
    "    tf = det[['trajectory','frame']].to_numpy()\n",
    "    trajframes = np.zeros([trajn.max()+1,5])\n",
    "    trajframes = trajframes * np.nan\n",
    "    trajframes[:,0] = np.arange(0,trajn.max()+1)\n",
    "    for j in range(tf.shape[0]):\n",
    "        currt = tf[j,0]\n",
    "        currf = tf[j,1]\n",
    "        if np.isnan(trajframes[currt,1]):\n",
    "            trajframes[currt,1] = currf\n",
    "        elif currf < trajframes[currt,1]:\n",
    "            trajframes[currt,1] = currf\n",
    "        if np.isnan(trajframes[currt,2]):\n",
    "            trajframes[currt,2] = currf\n",
    "        elif currf > trajframes[currt,2]:\n",
    "            trajframes[currt,2] = currf\n",
    "        # add a fourth column with file numbers\n",
    "        if np.isnan(trajframes[currt,3]):\n",
    "            # get the file number from the current csv file -- specific to MFM macro\n",
    "            fp = det['filepath'].iloc[j]\n",
    "            fnum = re.findall(r'\\d+.csv',fp)[0]\n",
    "            fnum = fnum[0:-4]\n",
    "            trajframes[currt,3] = int(fnum)\n",
    "            trajframes[currt,4] = 0\n",
    "    trajframes = trajframes.astype(int)\n",
    "    return trajframes"
   ]
  },
  {
   "cell_type": "code",
   "execution_count": 11,
   "metadata": {},
   "outputs": [],
   "source": [
    "# get frame number and file number for all trajectories in StateArray\n",
    "\n",
    "ff = getFramesAndFile(SA)"
   ]
  },
  {
   "cell_type": "code",
   "execution_count": 12,
   "metadata": {},
   "outputs": [],
   "source": [
    "# get the diffusion spectrum for each trajectory\n",
    "pap = SA.posterior_assignment_probabilities\n",
    "\n",
    "# calculate the mean of diffusion spectra for each file, weighted by number of jumps in each trajectory\n",
    "npt = SA.jumps_per_track\n",
    "pap_times_jumps = np.multiply(pap,np.broadcast_to(SA.jumps_per_track,SA.posterior_assignment_probabilities.shape))\n",
    "\n",
    "po = np.zeros([nfiles,100])\n",
    "\n",
    "for fnum in range(nfiles):\n",
    "    # calculate mean posterior occupation from this file and add it to the appropriate row of the po array\n",
    "    sel = (ff[:,3]==fnum+1)\n",
    "    po[fnum,:] = (pap_times_jumps[:,:,sel].sum(2)/(npt[sel].sum())).sum(1)"
   ]
  },
  {
   "cell_type": "code",
   "execution_count": 18,
   "metadata": {},
   "outputs": [
    {
     "data": {
      "text/plain": [
       "[Text(0, 0, '0'), Text(0, 0, '20'), Text(0, 0, '40'), Text(0, 0, '60')]"
      ]
     },
     "execution_count": 18,
     "metadata": {},
     "output_type": "execute_result"
    },
    {
     "data": {
      "image/png": "[encoded data removed]",
      "text/plain": [
       "<Figure size 576x576 with 1 Axes>"
      ]
     },
     "metadata": {
      "needs_background": "light"
     },
     "output_type": "display_data"
    }
   ],
   "source": [
    "# plot diffusion spectrum for each file\n",
    "fig, (ax1) = plt.subplots(1,1,figsize=[8,8],sharey=True)\n",
    "ax1.imshow(po,cmap='Purples',vmin=0,vmax=0.1)\n",
    "ax1.set_xlabel('D (µm^2/s)',fontsize=16)\n",
    "ax1.set_ylabel('Movie number',fontsize=16)\n",
    "# ax1.set_title('DR',fontsize=18)\n",
    "ax1.set_xticks((np.arange(-2,3)+2)*99/4) # this looks weird, but it corresponds to even spacing on a log scale\n",
    "ax1.set_xticklabels(['0.01','0.1','1','10','100'],fontsize=14)\n",
    "ax1.set_yticks(np.arange(0,nfiles-1,20))\n",
    "ax1.set_yticklabels(np.arange(0,nfiles-1,20),fontsize=14);"
   ]
  },
  {
   "cell_type": "code",
   "execution_count": 23,
   "metadata": {},
   "outputs": [
    {
     "data": {
      "text/plain": [
       "[<matplotlib.lines.Line2D at 0x7f816c98c150>]"
      ]
     },
     "execution_count": 23,
     "metadata": {},
     "output_type": "execute_result"
    },
    {
     "data": {
      "image/png": "[encoded data removed]",
      "text/plain": [
       "<Figure size 432x288 with 1 Axes>"
      ]
     },
     "metadata": {
      "needs_background": "light"
     },
     "output_type": "display_data"
    }
   ],
   "source": [
    "plt.plot(po[0:39,:].sum(0)/po[0:39,:].sum(0).sum())\n",
    "plt.plot(po[39:,:].sum(0)/po[39:,:].sum(0).sum())"
   ]
  }
 ],
 "metadata": {
  "colab": {
   "authorship_tag": "ABX9TyPGFjHt2fCUZRPnoiqdqMrX",
   "collapsed_sections": [],
   "name": "saspt_function_intro.ipynb",
   "provenance": [],
   "toc_visible": true
  },
  "kernelspec": {
   "display_name": "Python 3",
   "language": "python",
   "name": "python3"
  },
  "language_info": {
   "codemirror_mode": {
    "name": "ipython",
    "version": 3
   },
   "file_extension": ".py",
   "mimetype": "text/x-python",
   "name": "python",
   "nbconvert_exporter": "python",
   "pygments_lexer": "ipython3",
   "version": "3.7.4"
  }
 },
 "nbformat": 4,
 "nbformat_minor": 4
}
